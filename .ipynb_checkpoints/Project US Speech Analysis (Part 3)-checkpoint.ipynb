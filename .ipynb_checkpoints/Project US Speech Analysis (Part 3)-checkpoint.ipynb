{
 "cells": [
  {
   "cell_type": "markdown",
   "id": "82fa4a4d",
   "metadata": {},
   "source": [
    "# Project US Speech Analysis"
   ]
  },
  {
   "cell_type": "markdown",
   "id": "cfc2dabb",
   "metadata": {},
   "source": [
    "## Part 3: Feature engineering and visualization"
   ]
  },
  {
   "cell_type": "markdown",
   "id": "8b0f9d23",
   "metadata": {},
   "source": [
    "We will be getting simple metrics such as:\n",
    "1. speech length\n",
    "2. number of sentences in speech\n",
    "\n",
    "In this notebook, you will do the following:\n",
    "1. Import pandas and data vizualization libraries\n",
    "2. Derive metrics around the speeches\n",
    "3. Plot the metrics for comparison between the two"
   ]
  },
  {
   "cell_type": "code",
   "execution_count": 1,
   "id": "c514988e",
   "metadata": {},
   "outputs": [],
   "source": [
    "# Step 1: Import the libraries\n",
    "import pandas as pd\n",
    "import matplotlib.pyplot as plt\n",
    "import seaborn as sns"
   ]
  },
  {
   "cell_type": "code",
   "execution_count": 2,
   "id": "2f50a8c3",
   "metadata": {},
   "outputs": [
    {
     "data": {
      "text/html": [
       "<div>\n",
       "<style scoped>\n",
       "    .dataframe tbody tr th:only-of-type {\n",
       "        vertical-align: middle;\n",
       "    }\n",
       "\n",
       "    .dataframe tbody tr th {\n",
       "        vertical-align: top;\n",
       "    }\n",
       "\n",
       "    .dataframe thead th {\n",
       "        text-align: right;\n",
       "    }\n",
       "</style>\n",
       "<table border=\"1\" class=\"dataframe\">\n",
       "  <thead>\n",
       "    <tr style=\"text-align: right;\">\n",
       "      <th></th>\n",
       "      <th>filename</th>\n",
       "      <th>name</th>\n",
       "      <th>year</th>\n",
       "      <th>speech</th>\n",
       "    </tr>\n",
       "  </thead>\n",
       "  <tbody>\n",
       "    <tr>\n",
       "      <th>0</th>\n",
       "      <td>obama2010.txt</td>\n",
       "      <td>Obama</td>\n",
       "      <td>2010</td>\n",
       "      <td>Madam Speaker, Vice President Biden, members o...</td>\n",
       "    </tr>\n",
       "    <tr>\n",
       "      <th>1</th>\n",
       "      <td>obama2011.txt</td>\n",
       "      <td>Obama</td>\n",
       "      <td>2011</td>\n",
       "      <td>Mr. Speaker, Mr. Vice President, members of Co...</td>\n",
       "    </tr>\n",
       "    <tr>\n",
       "      <th>2</th>\n",
       "      <td>obama2012.txt</td>\n",
       "      <td>Obama</td>\n",
       "      <td>2012</td>\n",
       "      <td>Mr. Speaker, Mr. Vice President, members of Co...</td>\n",
       "    </tr>\n",
       "    <tr>\n",
       "      <th>3</th>\n",
       "      <td>obama2013.txt</td>\n",
       "      <td>Obama</td>\n",
       "      <td>2013</td>\n",
       "      <td>Mr. Speaker, Mr. Vice President, members of Co...</td>\n",
       "    </tr>\n",
       "    <tr>\n",
       "      <th>4</th>\n",
       "      <td>obama2014.txt</td>\n",
       "      <td>Obama</td>\n",
       "      <td>2014</td>\n",
       "      <td>Mr. Speaker, Mr. Vice President, Members of Co...</td>\n",
       "    </tr>\n",
       "    <tr>\n",
       "      <th>5</th>\n",
       "      <td>obama2015.txt</td>\n",
       "      <td>Obama</td>\n",
       "      <td>2015</td>\n",
       "      <td>Mr. Speaker, Mr. Vice President, Members of Co...</td>\n",
       "    </tr>\n",
       "    <tr>\n",
       "      <th>6</th>\n",
       "      <td>obama2016.txt</td>\n",
       "      <td>Obama</td>\n",
       "      <td>2016</td>\n",
       "      <td>Mr. Speaker, Mr. Vice President, Members of Co...</td>\n",
       "    </tr>\n",
       "    <tr>\n",
       "      <th>7</th>\n",
       "      <td>trump2018.txt</td>\n",
       "      <td>Trump</td>\n",
       "      <td>2018</td>\n",
       "      <td>Mr. Speaker, Mr. Vice President, Members of Co...</td>\n",
       "    </tr>\n",
       "    <tr>\n",
       "      <th>8</th>\n",
       "      <td>trump2019.txt</td>\n",
       "      <td>Trump</td>\n",
       "      <td>2019</td>\n",
       "      <td>Madam Speaker, Mr. Vice President, Members of ...</td>\n",
       "    </tr>\n",
       "    <tr>\n",
       "      <th>9</th>\n",
       "      <td>trump2020.txt</td>\n",
       "      <td>Trump</td>\n",
       "      <td>2020</td>\n",
       "      <td>Thank you very much.  Thank you.  Thank you ve...</td>\n",
       "    </tr>\n",
       "  </tbody>\n",
       "</table>\n",
       "</div>"
      ],
      "text/plain": [
       "        filename   name  year  \\\n",
       "0  obama2010.txt  Obama  2010   \n",
       "1  obama2011.txt  Obama  2011   \n",
       "2  obama2012.txt  Obama  2012   \n",
       "3  obama2013.txt  Obama  2013   \n",
       "4  obama2014.txt  Obama  2014   \n",
       "5  obama2015.txt  Obama  2015   \n",
       "6  obama2016.txt  Obama  2016   \n",
       "7  trump2018.txt  Trump  2018   \n",
       "8  trump2019.txt  Trump  2019   \n",
       "9  trump2020.txt  Trump  2020   \n",
       "\n",
       "                                              speech  \n",
       "0  Madam Speaker, Vice President Biden, members o...  \n",
       "1  Mr. Speaker, Mr. Vice President, members of Co...  \n",
       "2  Mr. Speaker, Mr. Vice President, members of Co...  \n",
       "3  Mr. Speaker, Mr. Vice President, members of Co...  \n",
       "4  Mr. Speaker, Mr. Vice President, Members of Co...  \n",
       "5  Mr. Speaker, Mr. Vice President, Members of Co...  \n",
       "6  Mr. Speaker, Mr. Vice President, Members of Co...  \n",
       "7  Mr. Speaker, Mr. Vice President, Members of Co...  \n",
       "8  Madam Speaker, Mr. Vice President, Members of ...  \n",
       "9  Thank you very much.  Thank you.  Thank you ve...  "
      ]
     },
     "execution_count": 2,
     "metadata": {},
     "output_type": "execute_result"
    }
   ],
   "source": [
    "# Step 2: Read your CSV from Part II\n",
    "df = pd.read_csv('Speech_data.csv')\n",
    "df"
   ]
  },
  {
   "cell_type": "markdown",
   "id": "300d6b72",
   "metadata": {},
   "source": [
    "## Engineer features from speech\n",
    "We'll start deriving features from the speeches.\n",
    "\n",
    "1. Number of characters\n",
    "2. Number of sentences\n",
    "3. Average number of characters\n",
    "4. Readability scores"
   ]
  },
  {
   "cell_type": "code",
   "execution_count": 3,
   "id": "a4084b78",
   "metadata": {},
   "outputs": [],
   "source": [
    "# Step 3: Get the number of characters in your speech\n",
    "df['len_speech'] = df['speech'].str.len()"
   ]
  },
  {
   "cell_type": "code",
   "execution_count": 4,
   "id": "876fdebd",
   "metadata": {},
   "outputs": [
    {
     "data": {
      "text/html": [
       "<div>\n",
       "<style scoped>\n",
       "    .dataframe tbody tr th:only-of-type {\n",
       "        vertical-align: middle;\n",
       "    }\n",
       "\n",
       "    .dataframe tbody tr th {\n",
       "        vertical-align: top;\n",
       "    }\n",
       "\n",
       "    .dataframe thead th {\n",
       "        text-align: right;\n",
       "    }\n",
       "</style>\n",
       "<table border=\"1\" class=\"dataframe\">\n",
       "  <thead>\n",
       "    <tr style=\"text-align: right;\">\n",
       "      <th></th>\n",
       "      <th>filename</th>\n",
       "      <th>name</th>\n",
       "      <th>year</th>\n",
       "      <th>speech</th>\n",
       "      <th>len_speech</th>\n",
       "    </tr>\n",
       "  </thead>\n",
       "  <tbody>\n",
       "    <tr>\n",
       "      <th>0</th>\n",
       "      <td>obama2010.txt</td>\n",
       "      <td>Obama</td>\n",
       "      <td>2010</td>\n",
       "      <td>Madam Speaker, Vice President Biden, members o...</td>\n",
       "      <td>43698</td>\n",
       "    </tr>\n",
       "    <tr>\n",
       "      <th>1</th>\n",
       "      <td>obama2011.txt</td>\n",
       "      <td>Obama</td>\n",
       "      <td>2011</td>\n",
       "      <td>Mr. Speaker, Mr. Vice President, members of Co...</td>\n",
       "      <td>41023</td>\n",
       "    </tr>\n",
       "    <tr>\n",
       "      <th>2</th>\n",
       "      <td>obama2012.txt</td>\n",
       "      <td>Obama</td>\n",
       "      <td>2012</td>\n",
       "      <td>Mr. Speaker, Mr. Vice President, members of Co...</td>\n",
       "      <td>42203</td>\n",
       "    </tr>\n",
       "    <tr>\n",
       "      <th>3</th>\n",
       "      <td>obama2013.txt</td>\n",
       "      <td>Obama</td>\n",
       "      <td>2013</td>\n",
       "      <td>Mr. Speaker, Mr. Vice President, members of Co...</td>\n",
       "      <td>41201</td>\n",
       "    </tr>\n",
       "    <tr>\n",
       "      <th>4</th>\n",
       "      <td>obama2014.txt</td>\n",
       "      <td>Obama</td>\n",
       "      <td>2014</td>\n",
       "      <td>Mr. Speaker, Mr. Vice President, Members of Co...</td>\n",
       "      <td>40009</td>\n",
       "    </tr>\n",
       "    <tr>\n",
       "      <th>5</th>\n",
       "      <td>obama2015.txt</td>\n",
       "      <td>Obama</td>\n",
       "      <td>2015</td>\n",
       "      <td>Mr. Speaker, Mr. Vice President, Members of Co...</td>\n",
       "      <td>40268</td>\n",
       "    </tr>\n",
       "    <tr>\n",
       "      <th>6</th>\n",
       "      <td>obama2016.txt</td>\n",
       "      <td>Obama</td>\n",
       "      <td>2016</td>\n",
       "      <td>Mr. Speaker, Mr. Vice President, Members of Co...</td>\n",
       "      <td>31167</td>\n",
       "    </tr>\n",
       "    <tr>\n",
       "      <th>7</th>\n",
       "      <td>trump2018.txt</td>\n",
       "      <td>Trump</td>\n",
       "      <td>2018</td>\n",
       "      <td>Mr. Speaker, Mr. Vice President, Members of Co...</td>\n",
       "      <td>30457</td>\n",
       "    </tr>\n",
       "    <tr>\n",
       "      <th>8</th>\n",
       "      <td>trump2019.txt</td>\n",
       "      <td>Trump</td>\n",
       "      <td>2019</td>\n",
       "      <td>Madam Speaker, Mr. Vice President, Members of ...</td>\n",
       "      <td>30945</td>\n",
       "    </tr>\n",
       "    <tr>\n",
       "      <th>9</th>\n",
       "      <td>trump2020.txt</td>\n",
       "      <td>Trump</td>\n",
       "      <td>2020</td>\n",
       "      <td>Thank you very much.  Thank you.  Thank you ve...</td>\n",
       "      <td>39648</td>\n",
       "    </tr>\n",
       "  </tbody>\n",
       "</table>\n",
       "</div>"
      ],
      "text/plain": [
       "        filename   name  year  \\\n",
       "0  obama2010.txt  Obama  2010   \n",
       "1  obama2011.txt  Obama  2011   \n",
       "2  obama2012.txt  Obama  2012   \n",
       "3  obama2013.txt  Obama  2013   \n",
       "4  obama2014.txt  Obama  2014   \n",
       "5  obama2015.txt  Obama  2015   \n",
       "6  obama2016.txt  Obama  2016   \n",
       "7  trump2018.txt  Trump  2018   \n",
       "8  trump2019.txt  Trump  2019   \n",
       "9  trump2020.txt  Trump  2020   \n",
       "\n",
       "                                              speech  len_speech  \n",
       "0  Madam Speaker, Vice President Biden, members o...       43698  \n",
       "1  Mr. Speaker, Mr. Vice President, members of Co...       41023  \n",
       "2  Mr. Speaker, Mr. Vice President, members of Co...       42203  \n",
       "3  Mr. Speaker, Mr. Vice President, members of Co...       41201  \n",
       "4  Mr. Speaker, Mr. Vice President, Members of Co...       40009  \n",
       "5  Mr. Speaker, Mr. Vice President, Members of Co...       40268  \n",
       "6  Mr. Speaker, Mr. Vice President, Members of Co...       31167  \n",
       "7  Mr. Speaker, Mr. Vice President, Members of Co...       30457  \n",
       "8  Madam Speaker, Mr. Vice President, Members of ...       30945  \n",
       "9  Thank you very much.  Thank you.  Thank you ve...       39648  "
      ]
     },
     "execution_count": 4,
     "metadata": {},
     "output_type": "execute_result"
    }
   ],
   "source": [
    "df"
   ]
  },
  {
   "cell_type": "markdown",
   "id": "9fdcfb7d",
   "metadata": {},
   "source": [
    "### Step 4: Replace \"!\" and \"?\" with \".\" in speech\n",
    "We'll be getting the number of sentences in the speeches, so let's replace our exclamation and question marks with a full stop so that we can split the sentences cleanly later on."
   ]
  },
  {
   "cell_type": "code",
   "execution_count": 5,
   "id": "3d7fe3b7",
   "metadata": {},
   "outputs": [
    {
     "name": "stderr",
     "output_type": "stream",
     "text": [
      "C:\\Users\\hslim\\AppData\\Local\\Temp/ipykernel_26980/174059563.py:3: FutureWarning: The default value of regex will change from True to False in a future version. In addition, single character regular expressions will *not* be treated as literal strings when regex=True.\n",
      "  df['speech'] = df['speech'].str.replace('?', '.')\n"
     ]
    }
   ],
   "source": [
    "# Step 4: Replace ?/! with .\n",
    "df['speech'] = df['speech'].str.replace('!', '.')\n",
    "df['speech'] = df['speech'].str.replace('?', '.')"
   ]
  },
  {
   "cell_type": "markdown",
   "id": "be5e0e3d",
   "metadata": {},
   "source": [
    "### Step 5: Split the speech and get the number of sentences\n",
    "In this step, you will need to do two things:\n",
    "1. Split the speech into a list of sentences by splitting based on \".\"\n",
    "2. Get the resulting length of the list"
   ]
  },
  {
   "cell_type": "code",
   "execution_count": 6,
   "id": "f549dd44",
   "metadata": {},
   "outputs": [],
   "source": [
    "# Step 5: Get column containing split speech and length of the lists\n",
    "df['sentences'] = df['speech'].str.split('.').tolist()"
   ]
  },
  {
   "cell_type": "code",
   "execution_count": 7,
   "id": "378b9e5f",
   "metadata": {},
   "outputs": [],
   "source": [
    "df['num_sentences'] = df['sentences'].str.len()"
   ]
  },
  {
   "cell_type": "code",
   "execution_count": 8,
   "id": "200168b3",
   "metadata": {},
   "outputs": [
    {
     "data": {
      "text/html": [
       "<div>\n",
       "<style scoped>\n",
       "    .dataframe tbody tr th:only-of-type {\n",
       "        vertical-align: middle;\n",
       "    }\n",
       "\n",
       "    .dataframe tbody tr th {\n",
       "        vertical-align: top;\n",
       "    }\n",
       "\n",
       "    .dataframe thead th {\n",
       "        text-align: right;\n",
       "    }\n",
       "</style>\n",
       "<table border=\"1\" class=\"dataframe\">\n",
       "  <thead>\n",
       "    <tr style=\"text-align: right;\">\n",
       "      <th></th>\n",
       "      <th>filename</th>\n",
       "      <th>name</th>\n",
       "      <th>year</th>\n",
       "      <th>speech</th>\n",
       "      <th>len_speech</th>\n",
       "      <th>sentences</th>\n",
       "      <th>num_sentences</th>\n",
       "    </tr>\n",
       "  </thead>\n",
       "  <tbody>\n",
       "    <tr>\n",
       "      <th>0</th>\n",
       "      <td>obama2010.txt</td>\n",
       "      <td>Obama</td>\n",
       "      <td>2010</td>\n",
       "      <td>Madam Speaker, Vice President Biden, members o...</td>\n",
       "      <td>43698</td>\n",
       "      <td>[Madam Speaker, Vice President Biden, members ...</td>\n",
       "      <td>562</td>\n",
       "    </tr>\n",
       "    <tr>\n",
       "      <th>1</th>\n",
       "      <td>obama2011.txt</td>\n",
       "      <td>Obama</td>\n",
       "      <td>2011</td>\n",
       "      <td>Mr. Speaker, Mr. Vice President, members of Co...</td>\n",
       "      <td>41023</td>\n",
       "      <td>[Mr,  Speaker, Mr,  Vice President, members of...</td>\n",
       "      <td>500</td>\n",
       "    </tr>\n",
       "    <tr>\n",
       "      <th>2</th>\n",
       "      <td>obama2012.txt</td>\n",
       "      <td>Obama</td>\n",
       "      <td>2012</td>\n",
       "      <td>Mr. Speaker, Mr. Vice President, members of Co...</td>\n",
       "      <td>42203</td>\n",
       "      <td>[Mr,  Speaker, Mr,  Vice President, members of...</td>\n",
       "      <td>518</td>\n",
       "    </tr>\n",
       "    <tr>\n",
       "      <th>3</th>\n",
       "      <td>obama2013.txt</td>\n",
       "      <td>Obama</td>\n",
       "      <td>2013</td>\n",
       "      <td>Mr. Speaker, Mr. Vice President, members of Co...</td>\n",
       "      <td>41201</td>\n",
       "      <td>[Mr,  Speaker, Mr,  Vice President, members of...</td>\n",
       "      <td>455</td>\n",
       "    </tr>\n",
       "    <tr>\n",
       "      <th>4</th>\n",
       "      <td>obama2014.txt</td>\n",
       "      <td>Obama</td>\n",
       "      <td>2014</td>\n",
       "      <td>Mr. Speaker, Mr. Vice President, Members of Co...</td>\n",
       "      <td>40009</td>\n",
       "      <td>[Mr,  Speaker, Mr,  Vice President, Members of...</td>\n",
       "      <td>352</td>\n",
       "    </tr>\n",
       "    <tr>\n",
       "      <th>5</th>\n",
       "      <td>obama2015.txt</td>\n",
       "      <td>Obama</td>\n",
       "      <td>2015</td>\n",
       "      <td>Mr. Speaker, Mr. Vice President, Members of Co...</td>\n",
       "      <td>40268</td>\n",
       "      <td>[Mr,  Speaker, Mr,  Vice President, Members of...</td>\n",
       "      <td>466</td>\n",
       "    </tr>\n",
       "    <tr>\n",
       "      <th>6</th>\n",
       "      <td>obama2016.txt</td>\n",
       "      <td>Obama</td>\n",
       "      <td>2016</td>\n",
       "      <td>Mr. Speaker, Mr. Vice President, Members of Co...</td>\n",
       "      <td>31167</td>\n",
       "      <td>[Mr,  Speaker, Mr,  Vice President, Members of...</td>\n",
       "      <td>305</td>\n",
       "    </tr>\n",
       "    <tr>\n",
       "      <th>7</th>\n",
       "      <td>trump2018.txt</td>\n",
       "      <td>Trump</td>\n",
       "      <td>2018</td>\n",
       "      <td>Mr. Speaker, Mr. Vice President, Members of Co...</td>\n",
       "      <td>30457</td>\n",
       "      <td>[Mr,  Speaker, Mr,  Vice President, Members of...</td>\n",
       "      <td>323</td>\n",
       "    </tr>\n",
       "    <tr>\n",
       "      <th>8</th>\n",
       "      <td>trump2019.txt</td>\n",
       "      <td>Trump</td>\n",
       "      <td>2019</td>\n",
       "      <td>Madam Speaker, Mr. Vice President, Members of ...</td>\n",
       "      <td>30945</td>\n",
       "      <td>[Madam Speaker, Mr,  Vice President, Members o...</td>\n",
       "      <td>298</td>\n",
       "    </tr>\n",
       "    <tr>\n",
       "      <th>9</th>\n",
       "      <td>trump2020.txt</td>\n",
       "      <td>Trump</td>\n",
       "      <td>2020</td>\n",
       "      <td>Thank you very much.  Thank you.  Thank you ve...</td>\n",
       "      <td>39648</td>\n",
       "      <td>[Thank you very much,   Thank you,   Thank you...</td>\n",
       "      <td>557</td>\n",
       "    </tr>\n",
       "  </tbody>\n",
       "</table>\n",
       "</div>"
      ],
      "text/plain": [
       "        filename   name  year  \\\n",
       "0  obama2010.txt  Obama  2010   \n",
       "1  obama2011.txt  Obama  2011   \n",
       "2  obama2012.txt  Obama  2012   \n",
       "3  obama2013.txt  Obama  2013   \n",
       "4  obama2014.txt  Obama  2014   \n",
       "5  obama2015.txt  Obama  2015   \n",
       "6  obama2016.txt  Obama  2016   \n",
       "7  trump2018.txt  Trump  2018   \n",
       "8  trump2019.txt  Trump  2019   \n",
       "9  trump2020.txt  Trump  2020   \n",
       "\n",
       "                                              speech  len_speech  \\\n",
       "0  Madam Speaker, Vice President Biden, members o...       43698   \n",
       "1  Mr. Speaker, Mr. Vice President, members of Co...       41023   \n",
       "2  Mr. Speaker, Mr. Vice President, members of Co...       42203   \n",
       "3  Mr. Speaker, Mr. Vice President, members of Co...       41201   \n",
       "4  Mr. Speaker, Mr. Vice President, Members of Co...       40009   \n",
       "5  Mr. Speaker, Mr. Vice President, Members of Co...       40268   \n",
       "6  Mr. Speaker, Mr. Vice President, Members of Co...       31167   \n",
       "7  Mr. Speaker, Mr. Vice President, Members of Co...       30457   \n",
       "8  Madam Speaker, Mr. Vice President, Members of ...       30945   \n",
       "9  Thank you very much.  Thank you.  Thank you ve...       39648   \n",
       "\n",
       "                                           sentences  num_sentences  \n",
       "0  [Madam Speaker, Vice President Biden, members ...            562  \n",
       "1  [Mr,  Speaker, Mr,  Vice President, members of...            500  \n",
       "2  [Mr,  Speaker, Mr,  Vice President, members of...            518  \n",
       "3  [Mr,  Speaker, Mr,  Vice President, members of...            455  \n",
       "4  [Mr,  Speaker, Mr,  Vice President, Members of...            352  \n",
       "5  [Mr,  Speaker, Mr,  Vice President, Members of...            466  \n",
       "6  [Mr,  Speaker, Mr,  Vice President, Members of...            305  \n",
       "7  [Mr,  Speaker, Mr,  Vice President, Members of...            323  \n",
       "8  [Madam Speaker, Mr,  Vice President, Members o...            298  \n",
       "9  [Thank you very much,   Thank you,   Thank you...            557  "
      ]
     },
     "execution_count": 8,
     "metadata": {},
     "output_type": "execute_result"
    }
   ],
   "source": [
    "df"
   ]
  },
  {
   "cell_type": "markdown",
   "id": "13d4ee8c",
   "metadata": {},
   "source": [
    "### Step 6: Get the average sentence length\n",
    "It's not enough that we get the absolute length of the speeches, and the number of sentences. \n",
    "\n",
    "We should also create a column named 'average_sen_length' that tells you what the average number of characters there are in a sentence. "
   ]
  },
  {
   "cell_type": "code",
   "execution_count": 9,
   "id": "a45f730b",
   "metadata": {},
   "outputs": [
    {
     "data": {
      "text/html": [
       "<div>\n",
       "<style scoped>\n",
       "    .dataframe tbody tr th:only-of-type {\n",
       "        vertical-align: middle;\n",
       "    }\n",
       "\n",
       "    .dataframe tbody tr th {\n",
       "        vertical-align: top;\n",
       "    }\n",
       "\n",
       "    .dataframe thead th {\n",
       "        text-align: right;\n",
       "    }\n",
       "</style>\n",
       "<table border=\"1\" class=\"dataframe\">\n",
       "  <thead>\n",
       "    <tr style=\"text-align: right;\">\n",
       "      <th></th>\n",
       "      <th>filename</th>\n",
       "      <th>name</th>\n",
       "      <th>year</th>\n",
       "      <th>speech</th>\n",
       "      <th>len_speech</th>\n",
       "      <th>sentences</th>\n",
       "      <th>num_sentences</th>\n",
       "      <th>average_sen_length</th>\n",
       "    </tr>\n",
       "  </thead>\n",
       "  <tbody>\n",
       "    <tr>\n",
       "      <th>0</th>\n",
       "      <td>obama2010.txt</td>\n",
       "      <td>Obama</td>\n",
       "      <td>2010</td>\n",
       "      <td>Madam Speaker, Vice President Biden, members o...</td>\n",
       "      <td>43698</td>\n",
       "      <td>[Madam Speaker, Vice President Biden, members ...</td>\n",
       "      <td>562</td>\n",
       "      <td>77.754448</td>\n",
       "    </tr>\n",
       "    <tr>\n",
       "      <th>1</th>\n",
       "      <td>obama2011.txt</td>\n",
       "      <td>Obama</td>\n",
       "      <td>2011</td>\n",
       "      <td>Mr. Speaker, Mr. Vice President, members of Co...</td>\n",
       "      <td>41023</td>\n",
       "      <td>[Mr,  Speaker, Mr,  Vice President, members of...</td>\n",
       "      <td>500</td>\n",
       "      <td>82.046000</td>\n",
       "    </tr>\n",
       "    <tr>\n",
       "      <th>2</th>\n",
       "      <td>obama2012.txt</td>\n",
       "      <td>Obama</td>\n",
       "      <td>2012</td>\n",
       "      <td>Mr. Speaker, Mr. Vice President, members of Co...</td>\n",
       "      <td>42203</td>\n",
       "      <td>[Mr,  Speaker, Mr,  Vice President, members of...</td>\n",
       "      <td>518</td>\n",
       "      <td>81.472973</td>\n",
       "    </tr>\n",
       "    <tr>\n",
       "      <th>3</th>\n",
       "      <td>obama2013.txt</td>\n",
       "      <td>Obama</td>\n",
       "      <td>2013</td>\n",
       "      <td>Mr. Speaker, Mr. Vice President, members of Co...</td>\n",
       "      <td>41201</td>\n",
       "      <td>[Mr,  Speaker, Mr,  Vice President, members of...</td>\n",
       "      <td>455</td>\n",
       "      <td>90.551648</td>\n",
       "    </tr>\n",
       "    <tr>\n",
       "      <th>4</th>\n",
       "      <td>obama2014.txt</td>\n",
       "      <td>Obama</td>\n",
       "      <td>2014</td>\n",
       "      <td>Mr. Speaker, Mr. Vice President, Members of Co...</td>\n",
       "      <td>40009</td>\n",
       "      <td>[Mr,  Speaker, Mr,  Vice President, Members of...</td>\n",
       "      <td>352</td>\n",
       "      <td>113.661932</td>\n",
       "    </tr>\n",
       "    <tr>\n",
       "      <th>5</th>\n",
       "      <td>obama2015.txt</td>\n",
       "      <td>Obama</td>\n",
       "      <td>2015</td>\n",
       "      <td>Mr. Speaker, Mr. Vice President, Members of Co...</td>\n",
       "      <td>40268</td>\n",
       "      <td>[Mr,  Speaker, Mr,  Vice President, Members of...</td>\n",
       "      <td>466</td>\n",
       "      <td>86.412017</td>\n",
       "    </tr>\n",
       "    <tr>\n",
       "      <th>6</th>\n",
       "      <td>obama2016.txt</td>\n",
       "      <td>Obama</td>\n",
       "      <td>2016</td>\n",
       "      <td>Mr. Speaker, Mr. Vice President, Members of Co...</td>\n",
       "      <td>31167</td>\n",
       "      <td>[Mr,  Speaker, Mr,  Vice President, Members of...</td>\n",
       "      <td>305</td>\n",
       "      <td>102.186885</td>\n",
       "    </tr>\n",
       "    <tr>\n",
       "      <th>7</th>\n",
       "      <td>trump2018.txt</td>\n",
       "      <td>Trump</td>\n",
       "      <td>2018</td>\n",
       "      <td>Mr. Speaker, Mr. Vice President, Members of Co...</td>\n",
       "      <td>30457</td>\n",
       "      <td>[Mr,  Speaker, Mr,  Vice President, Members of...</td>\n",
       "      <td>323</td>\n",
       "      <td>94.294118</td>\n",
       "    </tr>\n",
       "    <tr>\n",
       "      <th>8</th>\n",
       "      <td>trump2019.txt</td>\n",
       "      <td>Trump</td>\n",
       "      <td>2019</td>\n",
       "      <td>Madam Speaker, Mr. Vice President, Members of ...</td>\n",
       "      <td>30945</td>\n",
       "      <td>[Madam Speaker, Mr,  Vice President, Members o...</td>\n",
       "      <td>298</td>\n",
       "      <td>103.842282</td>\n",
       "    </tr>\n",
       "    <tr>\n",
       "      <th>9</th>\n",
       "      <td>trump2020.txt</td>\n",
       "      <td>Trump</td>\n",
       "      <td>2020</td>\n",
       "      <td>Thank you very much.  Thank you.  Thank you ve...</td>\n",
       "      <td>39648</td>\n",
       "      <td>[Thank you very much,   Thank you,   Thank you...</td>\n",
       "      <td>557</td>\n",
       "      <td>71.181329</td>\n",
       "    </tr>\n",
       "  </tbody>\n",
       "</table>\n",
       "</div>"
      ],
      "text/plain": [
       "        filename   name  year  \\\n",
       "0  obama2010.txt  Obama  2010   \n",
       "1  obama2011.txt  Obama  2011   \n",
       "2  obama2012.txt  Obama  2012   \n",
       "3  obama2013.txt  Obama  2013   \n",
       "4  obama2014.txt  Obama  2014   \n",
       "5  obama2015.txt  Obama  2015   \n",
       "6  obama2016.txt  Obama  2016   \n",
       "7  trump2018.txt  Trump  2018   \n",
       "8  trump2019.txt  Trump  2019   \n",
       "9  trump2020.txt  Trump  2020   \n",
       "\n",
       "                                              speech  len_speech  \\\n",
       "0  Madam Speaker, Vice President Biden, members o...       43698   \n",
       "1  Mr. Speaker, Mr. Vice President, members of Co...       41023   \n",
       "2  Mr. Speaker, Mr. Vice President, members of Co...       42203   \n",
       "3  Mr. Speaker, Mr. Vice President, members of Co...       41201   \n",
       "4  Mr. Speaker, Mr. Vice President, Members of Co...       40009   \n",
       "5  Mr. Speaker, Mr. Vice President, Members of Co...       40268   \n",
       "6  Mr. Speaker, Mr. Vice President, Members of Co...       31167   \n",
       "7  Mr. Speaker, Mr. Vice President, Members of Co...       30457   \n",
       "8  Madam Speaker, Mr. Vice President, Members of ...       30945   \n",
       "9  Thank you very much.  Thank you.  Thank you ve...       39648   \n",
       "\n",
       "                                           sentences  num_sentences  \\\n",
       "0  [Madam Speaker, Vice President Biden, members ...            562   \n",
       "1  [Mr,  Speaker, Mr,  Vice President, members of...            500   \n",
       "2  [Mr,  Speaker, Mr,  Vice President, members of...            518   \n",
       "3  [Mr,  Speaker, Mr,  Vice President, members of...            455   \n",
       "4  [Mr,  Speaker, Mr,  Vice President, Members of...            352   \n",
       "5  [Mr,  Speaker, Mr,  Vice President, Members of...            466   \n",
       "6  [Mr,  Speaker, Mr,  Vice President, Members of...            305   \n",
       "7  [Mr,  Speaker, Mr,  Vice President, Members of...            323   \n",
       "8  [Madam Speaker, Mr,  Vice President, Members o...            298   \n",
       "9  [Thank you very much,   Thank you,   Thank you...            557   \n",
       "\n",
       "   average_sen_length  \n",
       "0           77.754448  \n",
       "1           82.046000  \n",
       "2           81.472973  \n",
       "3           90.551648  \n",
       "4          113.661932  \n",
       "5           86.412017  \n",
       "6          102.186885  \n",
       "7           94.294118  \n",
       "8          103.842282  \n",
       "9           71.181329  "
      ]
     },
     "execution_count": 9,
     "metadata": {},
     "output_type": "execute_result"
    }
   ],
   "source": [
    "# Step 6: Create a column containing average sentence length\n",
    "df['average_sen_length'] = df['len_speech'] / df['num_sentences']\n",
    "df"
   ]
  },
  {
   "cell_type": "markdown",
   "id": "5a632df4",
   "metadata": {},
   "source": [
    "### Step 7: Import readability\n",
    "We will now get some readability scores for the speeches. \n",
    "\n",
    "Why so? Readability indicates how accessible the ideas in the speeches are, and accessibility helps with connecting with the audience.\n",
    "\n",
    "That said, since these are speech transcripts, they're not exactly meant for reading. However, it's still a good idea to see if we can analyze the readability of their speeches.\n",
    "\n",
    "There are a lot of readability scores, but we will focus on two scores:\n",
    "1. SMOG\n",
    "2. Flesch reading ease score"
   ]
  },
  {
   "cell_type": "code",
   "execution_count": 10,
   "id": "40ab3035",
   "metadata": {},
   "outputs": [],
   "source": [
    "# Step 7: Import readability\n",
    "import readability"
   ]
  },
  {
   "cell_type": "markdown",
   "id": "e86bc5bd",
   "metadata": {},
   "source": [
    "### Step 8: Add SMOGIndex and FleschReadingEase into your DataFrame\n",
    "As mentioned, we will be using these two commonly used scores in readability tests.\n",
    "\n",
    "Loop through the values in the 'speech' column and get the scores for your new column, named 'SMOG_index' and 'Flesch_score'."
   ]
  },
  {
   "cell_type": "code",
   "execution_count": 11,
   "id": "34d4ce1b",
   "metadata": {},
   "outputs": [
    {
     "data": {
      "text/html": [
       "<div>\n",
       "<style scoped>\n",
       "    .dataframe tbody tr th:only-of-type {\n",
       "        vertical-align: middle;\n",
       "    }\n",
       "\n",
       "    .dataframe tbody tr th {\n",
       "        vertical-align: top;\n",
       "    }\n",
       "\n",
       "    .dataframe thead th {\n",
       "        text-align: right;\n",
       "    }\n",
       "</style>\n",
       "<table border=\"1\" class=\"dataframe\">\n",
       "  <thead>\n",
       "    <tr style=\"text-align: right;\">\n",
       "      <th></th>\n",
       "      <th>filename</th>\n",
       "      <th>name</th>\n",
       "      <th>year</th>\n",
       "      <th>speech</th>\n",
       "      <th>len_speech</th>\n",
       "      <th>sentences</th>\n",
       "      <th>num_sentences</th>\n",
       "      <th>average_sen_length</th>\n",
       "      <th>SMOG_index</th>\n",
       "      <th>Flesch_score</th>\n",
       "    </tr>\n",
       "  </thead>\n",
       "  <tbody>\n",
       "    <tr>\n",
       "      <th>0</th>\n",
       "      <td>obama2010.txt</td>\n",
       "      <td>Obama</td>\n",
       "      <td>2010</td>\n",
       "      <td>Madam Speaker, Vice President Biden, members o...</td>\n",
       "      <td>43698</td>\n",
       "      <td>[Madam Speaker, Vice President Biden, members ...</td>\n",
       "      <td>562</td>\n",
       "      <td>77.754448</td>\n",
       "      <td>17.826429</td>\n",
       "      <td>24.720575</td>\n",
       "    </tr>\n",
       "    <tr>\n",
       "      <th>1</th>\n",
       "      <td>obama2011.txt</td>\n",
       "      <td>Obama</td>\n",
       "      <td>2011</td>\n",
       "      <td>Mr. Speaker, Mr. Vice President, members of Co...</td>\n",
       "      <td>41023</td>\n",
       "      <td>[Mr,  Speaker, Mr,  Vice President, members of...</td>\n",
       "      <td>500</td>\n",
       "      <td>82.046000</td>\n",
       "      <td>16.543303</td>\n",
       "      <td>32.322806</td>\n",
       "    </tr>\n",
       "    <tr>\n",
       "      <th>2</th>\n",
       "      <td>obama2012.txt</td>\n",
       "      <td>Obama</td>\n",
       "      <td>2012</td>\n",
       "      <td>Mr. Speaker, Mr. Vice President, members of Co...</td>\n",
       "      <td>42203</td>\n",
       "      <td>[Mr,  Speaker, Mr,  Vice President, members of...</td>\n",
       "      <td>518</td>\n",
       "      <td>81.472973</td>\n",
       "      <td>17.344065</td>\n",
       "      <td>26.228014</td>\n",
       "    </tr>\n",
       "    <tr>\n",
       "      <th>3</th>\n",
       "      <td>obama2013.txt</td>\n",
       "      <td>Obama</td>\n",
       "      <td>2013</td>\n",
       "      <td>Mr. Speaker, Mr. Vice President, members of Co...</td>\n",
       "      <td>41201</td>\n",
       "      <td>[Mr,  Speaker, Mr,  Vice President, members of...</td>\n",
       "      <td>455</td>\n",
       "      <td>90.551648</td>\n",
       "      <td>14.187551</td>\n",
       "      <td>52.062427</td>\n",
       "    </tr>\n",
       "    <tr>\n",
       "      <th>4</th>\n",
       "      <td>obama2014.txt</td>\n",
       "      <td>Obama</td>\n",
       "      <td>2014</td>\n",
       "      <td>Mr. Speaker, Mr. Vice President, Members of Co...</td>\n",
       "      <td>40009</td>\n",
       "      <td>[Mr,  Speaker, Mr,  Vice President, Members of...</td>\n",
       "      <td>352</td>\n",
       "      <td>113.661932</td>\n",
       "      <td>19.064501</td>\n",
       "      <td>9.227649</td>\n",
       "    </tr>\n",
       "    <tr>\n",
       "      <th>5</th>\n",
       "      <td>obama2015.txt</td>\n",
       "      <td>Obama</td>\n",
       "      <td>2015</td>\n",
       "      <td>Mr. Speaker, Mr. Vice President, Members of Co...</td>\n",
       "      <td>40268</td>\n",
       "      <td>[Mr,  Speaker, Mr,  Vice President, Members of...</td>\n",
       "      <td>466</td>\n",
       "      <td>86.412017</td>\n",
       "      <td>13.518314</td>\n",
       "      <td>56.194377</td>\n",
       "    </tr>\n",
       "    <tr>\n",
       "      <th>6</th>\n",
       "      <td>obama2016.txt</td>\n",
       "      <td>Obama</td>\n",
       "      <td>2016</td>\n",
       "      <td>Mr. Speaker, Mr. Vice President, Members of Co...</td>\n",
       "      <td>31167</td>\n",
       "      <td>[Mr,  Speaker, Mr,  Vice President, Members of...</td>\n",
       "      <td>305</td>\n",
       "      <td>102.186885</td>\n",
       "      <td>17.441406</td>\n",
       "      <td>25.062509</td>\n",
       "    </tr>\n",
       "    <tr>\n",
       "      <th>7</th>\n",
       "      <td>trump2018.txt</td>\n",
       "      <td>Trump</td>\n",
       "      <td>2018</td>\n",
       "      <td>Mr. Speaker, Mr. Vice President, Members of Co...</td>\n",
       "      <td>30457</td>\n",
       "      <td>[Mr,  Speaker, Mr,  Vice President, Members of...</td>\n",
       "      <td>323</td>\n",
       "      <td>94.294118</td>\n",
       "      <td>13.843611</td>\n",
       "      <td>51.034490</td>\n",
       "    </tr>\n",
       "    <tr>\n",
       "      <th>8</th>\n",
       "      <td>trump2019.txt</td>\n",
       "      <td>Trump</td>\n",
       "      <td>2019</td>\n",
       "      <td>Madam Speaker, Mr. Vice President, Members of ...</td>\n",
       "      <td>30945</td>\n",
       "      <td>[Madam Speaker, Mr,  Vice President, Members o...</td>\n",
       "      <td>298</td>\n",
       "      <td>103.842282</td>\n",
       "      <td>14.799100</td>\n",
       "      <td>44.106260</td>\n",
       "    </tr>\n",
       "    <tr>\n",
       "      <th>9</th>\n",
       "      <td>trump2020.txt</td>\n",
       "      <td>Trump</td>\n",
       "      <td>2020</td>\n",
       "      <td>Thank you very much.  Thank you.  Thank you ve...</td>\n",
       "      <td>39648</td>\n",
       "      <td>[Thank you very much,   Thank you,   Thank you...</td>\n",
       "      <td>557</td>\n",
       "      <td>71.181329</td>\n",
       "      <td>16.381695</td>\n",
       "      <td>33.439536</td>\n",
       "    </tr>\n",
       "  </tbody>\n",
       "</table>\n",
       "</div>"
      ],
      "text/plain": [
       "        filename   name  year  \\\n",
       "0  obama2010.txt  Obama  2010   \n",
       "1  obama2011.txt  Obama  2011   \n",
       "2  obama2012.txt  Obama  2012   \n",
       "3  obama2013.txt  Obama  2013   \n",
       "4  obama2014.txt  Obama  2014   \n",
       "5  obama2015.txt  Obama  2015   \n",
       "6  obama2016.txt  Obama  2016   \n",
       "7  trump2018.txt  Trump  2018   \n",
       "8  trump2019.txt  Trump  2019   \n",
       "9  trump2020.txt  Trump  2020   \n",
       "\n",
       "                                              speech  len_speech  \\\n",
       "0  Madam Speaker, Vice President Biden, members o...       43698   \n",
       "1  Mr. Speaker, Mr. Vice President, members of Co...       41023   \n",
       "2  Mr. Speaker, Mr. Vice President, members of Co...       42203   \n",
       "3  Mr. Speaker, Mr. Vice President, members of Co...       41201   \n",
       "4  Mr. Speaker, Mr. Vice President, Members of Co...       40009   \n",
       "5  Mr. Speaker, Mr. Vice President, Members of Co...       40268   \n",
       "6  Mr. Speaker, Mr. Vice President, Members of Co...       31167   \n",
       "7  Mr. Speaker, Mr. Vice President, Members of Co...       30457   \n",
       "8  Madam Speaker, Mr. Vice President, Members of ...       30945   \n",
       "9  Thank you very much.  Thank you.  Thank you ve...       39648   \n",
       "\n",
       "                                           sentences  num_sentences  \\\n",
       "0  [Madam Speaker, Vice President Biden, members ...            562   \n",
       "1  [Mr,  Speaker, Mr,  Vice President, members of...            500   \n",
       "2  [Mr,  Speaker, Mr,  Vice President, members of...            518   \n",
       "3  [Mr,  Speaker, Mr,  Vice President, members of...            455   \n",
       "4  [Mr,  Speaker, Mr,  Vice President, Members of...            352   \n",
       "5  [Mr,  Speaker, Mr,  Vice President, Members of...            466   \n",
       "6  [Mr,  Speaker, Mr,  Vice President, Members of...            305   \n",
       "7  [Mr,  Speaker, Mr,  Vice President, Members of...            323   \n",
       "8  [Madam Speaker, Mr,  Vice President, Members o...            298   \n",
       "9  [Thank you very much,   Thank you,   Thank you...            557   \n",
       "\n",
       "   average_sen_length  SMOG_index  Flesch_score  \n",
       "0           77.754448   17.826429     24.720575  \n",
       "1           82.046000   16.543303     32.322806  \n",
       "2           81.472973   17.344065     26.228014  \n",
       "3           90.551648   14.187551     52.062427  \n",
       "4          113.661932   19.064501      9.227649  \n",
       "5           86.412017   13.518314     56.194377  \n",
       "6          102.186885   17.441406     25.062509  \n",
       "7           94.294118   13.843611     51.034490  \n",
       "8          103.842282   14.799100     44.106260  \n",
       "9           71.181329   16.381695     33.439536  "
      ]
     },
     "execution_count": 11,
     "metadata": {},
     "output_type": "execute_result"
    }
   ],
   "source": [
    "# Step 8: Add SMOGIndex and FleschReadingEase\n",
    "SMOG_index = []\n",
    "Flesch_score = []\n",
    "for speech in df['speech']:\n",
    "    results = readability.getmeasures(speech)\n",
    "    SMOG_index.append(results['readability grades']['SMOGIndex'])\n",
    "    Flesch_score.append(results['readability grades']['FleschReadingEase'])\n",
    "df['SMOG_index'] = SMOG_index\n",
    "df['Flesch_score'] = Flesch_score\n",
    "df"
   ]
  },
  {
   "cell_type": "markdown",
   "id": "cf627165",
   "metadata": {},
   "source": [
    "## Visualizing the speech metrics\n",
    "Okay, we have successfully extract all the information that we need for now. \n",
    "\n",
    "Next up, we will now visualize them for comparison between Obama and Trump. Most of the analyses will be done using boxplot, and we recommend seaborn as the library of choice here. \n",
    "\n",
    "### Step 9: Analyze len_speech with a boxplot\n",
    "We'll first compare len_speech with a boxplot. "
   ]
  },
  {
   "cell_type": "code",
   "execution_count": 12,
   "id": "afe8539e",
   "metadata": {},
   "outputs": [
    {
     "name": "stderr",
     "output_type": "stream",
     "text": [
      "c:\\users\\hslim\\appdata\\local\\programs\\python\\python38\\lib\\site-packages\\seaborn\\_decorators.py:36: FutureWarning: Pass the following variables as keyword args: x, y. From version 0.12, the only valid positional argument will be `data`, and passing other arguments without an explicit keyword will result in an error or misinterpretation.\n",
      "  warnings.warn(\n"
     ]
    },
    {
     "data": {
      "text/plain": [
       "<AxesSubplot:xlabel='name', ylabel='len_speech'>"
      ]
     },
     "execution_count": 12,
     "metadata": {},
     "output_type": "execute_result"
    },
    {
     "data": {
      "image/png": "[encoded data removed]",
      "text/plain": [
       "<Figure size 1152x576 with 1 Axes>"
      ]
     },
     "metadata": {
      "needs_background": "light"
     },
     "output_type": "display_data"
    }
   ],
   "source": [
    "# Step 9: Plot a boxplot for len_speech\n",
    "plt.figure(figsize = (16,8))\n",
    "sns.boxplot(df['name'], df['len_speech'])"
   ]
  },
  {
   "cell_type": "markdown",
   "id": "ba6a618e",
   "metadata": {},
   "source": [
    "### Step 10: Analyze num_sentences with a boxplot\n",
    "Next, we'll first compare num_sentences with a boxplot. "
   ]
  },
  {
   "cell_type": "code",
   "execution_count": 13,
   "id": "4b69b1c8",
   "metadata": {},
   "outputs": [
    {
     "name": "stderr",
     "output_type": "stream",
     "text": [
      "c:\\users\\hslim\\appdata\\local\\programs\\python\\python38\\lib\\site-packages\\seaborn\\_decorators.py:36: FutureWarning: Pass the following variables as keyword args: x, y. From version 0.12, the only valid positional argument will be `data`, and passing other arguments without an explicit keyword will result in an error or misinterpretation.\n",
      "  warnings.warn(\n"
     ]
    },
    {
     "data": {
      "text/plain": [
       "<AxesSubplot:xlabel='name', ylabel='num_sentences'>"
      ]
     },
     "execution_count": 13,
     "metadata": {},
     "output_type": "execute_result"
    },
    {
     "data": {
      "image/png": "[encoded data removed]",
      "text/plain": [
       "<Figure size 1152x576 with 1 Axes>"
      ]
     },
     "metadata": {
      "needs_background": "light"
     },
     "output_type": "display_data"
    }
   ],
   "source": [
    "# Step 10: Analyze num_sentences with a boxplot\n",
    "plt.figure(figsize = (16,8))\n",
    "sns.boxplot(df['name'], df['num_sentences'])"
   ]
  },
  {
   "cell_type": "markdown",
   "id": "2fb80bb4",
   "metadata": {},
   "source": [
    "### Step 11: Analyze average_sen_length with a boxplot\n",
    "So far, it seems that Trump's speeches are shorter and there are fewer sentences.\n",
    "\n",
    "However, plotting the absolute speech length and number of sentences is one half of a data story - you'll still need to look at the averages/ratio of length to number of sentences.\n",
    "\n",
    "Plot average_sen_length as well."
   ]
  },
  {
   "cell_type": "code",
   "execution_count": 14,
   "id": "8a5f9f4e",
   "metadata": {},
   "outputs": [
    {
     "name": "stderr",
     "output_type": "stream",
     "text": [
      "c:\\users\\hslim\\appdata\\local\\programs\\python\\python38\\lib\\site-packages\\seaborn\\_decorators.py:36: FutureWarning: Pass the following variables as keyword args: x, y. From version 0.12, the only valid positional argument will be `data`, and passing other arguments without an explicit keyword will result in an error or misinterpretation.\n",
      "  warnings.warn(\n"
     ]
    },
    {
     "data": {
      "text/plain": [
       "<AxesSubplot:xlabel='name', ylabel='average_sen_length'>"
      ]
     },
     "execution_count": 14,
     "metadata": {},
     "output_type": "execute_result"
    },
    {
     "data": {
      "image/png": "[encoded data removed]",
      "text/plain": [
       "<Figure size 1152x576 with 1 Axes>"
      ]
     },
     "metadata": {
      "needs_background": "light"
     },
     "output_type": "display_data"
    }
   ],
   "source": [
    "# Step 11: Plot average_sen_length with a boxplot\n",
    "plt.figure(figsize = (16,8))\n",
    "sns.boxplot(df['name'], df['average_sen_length'])"
   ]
  },
  {
   "cell_type": "code",
   "execution_count": 15,
   "id": "537657b0",
   "metadata": {},
   "outputs": [
    {
     "data": {
      "text/plain": [
       "90.58370056495188"
      ]
     },
     "execution_count": 15,
     "metadata": {},
     "output_type": "execute_result"
    }
   ],
   "source": [
    "# Step 12: Print the average_sen_length\n",
    "df_obama = df[df['name'] == 'Obama']\n",
    "df_obama['average_sen_length'].mean()"
   ]
  },
  {
   "cell_type": "code",
   "execution_count": 16,
   "id": "586e2951",
   "metadata": {},
   "outputs": [
    {
     "data": {
      "text/plain": [
       "89.77257602401147"
      ]
     },
     "execution_count": 16,
     "metadata": {},
     "output_type": "execute_result"
    }
   ],
   "source": [
    "df_trump = df[df['name'] == 'Trump']\n",
    "df_trump['average_sen_length'].mean()"
   ]
  },
  {
   "cell_type": "markdown",
   "id": "69a88b54",
   "metadata": {},
   "source": [
    "### Step 13: Analyze SMOG_index with a boxplot\n",
    "Next up, let's compare the readability of the two individuals' speeches.\n",
    "\n",
    "We'll start with a boxplot for SMOG_index.\n",
    "\n",
    "P.S. The higher the SMOG score, the harder it is to read"
   ]
  },
  {
   "cell_type": "code",
   "execution_count": 17,
   "id": "c1ea7c17",
   "metadata": {},
   "outputs": [
    {
     "name": "stderr",
     "output_type": "stream",
     "text": [
      "c:\\users\\hslim\\appdata\\local\\programs\\python\\python38\\lib\\site-packages\\seaborn\\_decorators.py:36: FutureWarning: Pass the following variables as keyword args: x, y. From version 0.12, the only valid positional argument will be `data`, and passing other arguments without an explicit keyword will result in an error or misinterpretation.\n",
      "  warnings.warn(\n"
     ]
    },
    {
     "data": {
      "text/plain": [
       "<AxesSubplot:xlabel='name', ylabel='SMOG_index'>"
      ]
     },
     "execution_count": 17,
     "metadata": {},
     "output_type": "execute_result"
    },
    {
     "data": {
      "image/png": "[encoded data removed]",
      "text/plain": [
       "<Figure size 1152x576 with 1 Axes>"
      ]
     },
     "metadata": {
      "needs_background": "light"
     },
     "output_type": "display_data"
    }
   ],
   "source": [
    "# Step 13: Plot SMOG_index with a boxplot\n",
    "plt.figure(figsize = (16,8))\n",
    "sns.boxplot(df['name'], df['SMOG_index'])"
   ]
  },
  {
   "cell_type": "markdown",
   "id": "a1450fd0",
   "metadata": {},
   "source": [
    "### Step 14: Analyze Flesch_score with a boxplot\n",
    "Once you clear the SMOG, next up is Flesch_score. \n",
    "\n",
    "Same thing, plot a boxplot for Flesch_score.\n",
    "\n",
    "P.S. The higher the Flesch Reading Ease score, the easier it is to read."
   ]
  },
  {
   "cell_type": "code",
   "execution_count": 18,
   "id": "5518e965",
   "metadata": {},
   "outputs": [
    {
     "name": "stderr",
     "output_type": "stream",
     "text": [
      "c:\\users\\hslim\\appdata\\local\\programs\\python\\python38\\lib\\site-packages\\seaborn\\_decorators.py:36: FutureWarning: Pass the following variables as keyword args: x, y. From version 0.12, the only valid positional argument will be `data`, and passing other arguments without an explicit keyword will result in an error or misinterpretation.\n",
      "  warnings.warn(\n"
     ]
    },
    {
     "data": {
      "text/plain": [
       "<AxesSubplot:xlabel='name', ylabel='Flesch_score'>"
      ]
     },
     "execution_count": 18,
     "metadata": {},
     "output_type": "execute_result"
    },
    {
     "data": {
      "image/png": "[encoded data removed]",
      "text/plain": [
       "<Figure size 1152x576 with 1 Axes>"
      ]
     },
     "metadata": {
      "needs_background": "light"
     },
     "output_type": "display_data"
    }
   ],
   "source": [
    "# Step 14: Plot average_sen_length with a boxplot\n",
    "plt.figure(figsize = (16,8))\n",
    "sns.boxplot(df['name'], df['Flesch_score'])"
   ]
  },
  {
   "cell_type": "markdown",
   "id": "864da61f",
   "metadata": {},
   "source": [
    "Now that you've plotted the barplots for SMOG and Flesch Reading Ease scores, what can you say about their speeches?\n",
    "\n",
    "Hopefully, you'll come to the same conclusion as us - Trump's speeches are generally easier to read whereas Obama's speeches are harder to read. \n",
    "\n",
    "Interpret that how you will. \n",
    "\n",
    "### Step 15: Export the expanded DataFrame as a CSV\n",
    "Now that we're done plotting, we will be exporting the DataFrame into a CSV for use in other Parts."
   ]
  },
  {
   "cell_type": "code",
   "execution_count": 19,
   "id": "6d58dc22",
   "metadata": {},
   "outputs": [],
   "source": [
    "# Step 15: Export the DataFrame to CSV\n",
    "df.to_csv('Speech_data_extended.csv', index = None)"
   ]
  }
 ],
 "metadata": {
  "kernelspec": {
   "display_name": "Python 3 (ipykernel)",
   "language": "python",
   "name": "python3"
  },
  "language_info": {
   "codemirror_mode": {
    "name": "ipython",
    "version": 3
   },
   "file_extension": ".py",
   "mimetype": "text/x-python",
   "name": "python",
   "nbconvert_exporter": "python",
   "pygments_lexer": "ipython3",
   "version": "3.8.10"
  }
 },
 "nbformat": 4,
 "nbformat_minor": 5
}
