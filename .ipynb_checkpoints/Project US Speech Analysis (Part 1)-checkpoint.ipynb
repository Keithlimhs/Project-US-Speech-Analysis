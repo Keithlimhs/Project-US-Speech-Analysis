{
 "cells": [
  {
   "cell_type": "markdown",
   "id": "2b826891",
   "metadata": {},
   "source": [
    "# Project US Speech Analysis"
   ]
  },
  {
   "cell_type": "markdown",
   "id": "8bf2c2ba",
   "metadata": {},
   "source": [
    "### What we'll be doing:\n",
    "In this project, we will do the following:\n",
    "\n",
    "1. Download and collect speech data (Part I)\n",
    "2. Organizing the collected speech data into a DataFrame (Part II) \n",
    "3. Engineer additional features from the text for analysis and visualization (Part III)\n",
    "4. Analyze the speeches using NLP library spaCy (Part IV)\n",
    "5. Calculate sentiment scores across speeches (Part V)"
   ]
  },
  {
   "cell_type": "markdown",
   "id": "be0f01f7",
   "metadata": {},
   "source": [
    "## Part 1: Data Collection"
   ]
  },
  {
   "cell_type": "markdown",
   "id": "5bb155e1",
   "metadata": {},
   "source": [
    "<div style=\"background-color: #78E8A3; padding: 20px\">\n",
    "<h3>Project Scenario</h3>\n",
    "<p>You are a journalist who is interested in analyzing the differences in Obama's and Trump's speeches over the years.</p>\n",
    "<p>Apart from reading the content of the speeches, you wonder if there was a way to quantify this difference.</p>\n",
    "<p>You remembered that you recently learned Python, and so you proposed to your editor that you'd like to use text analytics and Natural Language Processing techniques (NLP) to identify if there are any differences between their speeches.</p>\n",
    "<p>Your editor is intrigued, and accepts your proposal. In this project series, you will work towards analyzing their speeches using Python.</p>\n",
    "</div>"
   ]
  },
  {
   "cell_type": "markdown",
   "id": "39ce6062",
   "metadata": {},
   "source": [
    "### Step 1: Collect the data\n",
    "In this project series, we will be performing text analytics and basic Natural Language Processing (NLP) work. \n",
    "\n",
    "To do that, we will use Obama and Trump's State of the Union speeches between 2010 to 2020 for analysis. The State of the Union speeches are speeches that presidents give at the beginning of each calendar year to propose legislative agenda and national priorities.\n",
    "\n",
    "More info here: https://en.wikipedia.org/wiki/State_of_the_Union\n",
    "\n",
    "But before we do anything, first we will need to collect the data. \n",
    "\n",
    "How so? This will be a bit old-school:\n",
    "1. Google for \"Obama/Trump State of the Union Speech XXXX\" where XXXX is a year\n",
    "2. Copy and paste the speech in a text editor, e.g., Notepad, Microsoft Word, etc\n",
    "3. Save the file in your directory as a .txt file\n",
    "\n",
    "Obama's speeches are from 2010 to 2016, and Trump's speeches are from 2018 to 2020. \n",
    "\n",
    "It won't be difficult finding the speeches, but in the case where you're unable to collect the data, download it from <a href = \"https://uplevelsg.s3-ap-southeast-1.amazonaws.com/ProjectUSSpeech/AllSpeeches.zip\">here</a>.\n",
    "\n",
    "<font color='red'>You are expected to collect <strong>7 (Obama)</strong> + <strong>3 (Trump)</strong>speeches.</font>\n",
    "\n",
    "# Note: Depending on where you collect your data from, the analyses in subsequent Parts will be <em>slightly</em> different but that's ok. Such is the messy nature of data science."
   ]
  }
 ],
 "metadata": {
  "kernelspec": {
   "display_name": "Python 3 (ipykernel)",
   "language": "python",
   "name": "python3"
  },
  "language_info": {
   "codemirror_mode": {
    "name": "ipython",
    "version": 3
   },
   "file_extension": ".py",
   "mimetype": "text/x-python",
   "name": "python",
   "nbconvert_exporter": "python",
   "pygments_lexer": "ipython3",
   "version": "3.8.10"
  }
 },
 "nbformat": 4,
 "nbformat_minor": 5
}
