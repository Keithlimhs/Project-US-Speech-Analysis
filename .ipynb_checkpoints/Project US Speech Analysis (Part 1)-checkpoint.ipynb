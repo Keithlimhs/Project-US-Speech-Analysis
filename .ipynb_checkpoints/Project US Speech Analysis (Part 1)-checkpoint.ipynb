{
 "cells": [
  {
   "cell_type": "markdown",
   "id": "2b826891",
   "metadata": {},
   "source": [
    "# Project US Speech Analysis"
   ]
  },
  {
   "cell_type": "markdown",
   "id": "8bf2c2ba",
   "metadata": {},
   "source": [
    "### What we'll be doing:\n",
    "In this project, we will do the following:\n",
    "\n",
    "1. Download and collect speech data (Part I)\n",
    "2. Organizing the collected speech data into a DataFrame (Part II) \n",
    "3. Engineer additional features from the text for analysis and visualization (Part III)\n",
    "4. Analyze the speeches using NLP library spaCy (Part IV)\n",
    "5. Calculate sentiment scores across speeches (Part V)"
   ]
  },
  {
   "cell_type": "markdown",
   "id": "be0f01f7",
   "metadata": {},
   "source": [
    "## Part 1: Data Collection"
   ]
  },
  {
   "cell_type": "markdown",
   "id": "5bb155e1",
   "metadata": {},
   "source": [
    "<div style=\"background-color: #78E8A3; padding: 20px\">\n",
    "<h3>Project Scenario</h3>\n",
    "<p>You are a journalist who is interested in analyzing the differences in Obama's and Trump's speeches over the years.</p>\n",
    "<p>Apart from reading the content of the speeches, you wonder if there was a way to quantify this difference.</p>\n",
    "<p>You remembered that you recently learned Python, and so you proposed to your editor that you'd like to use text analytics and Natural Language Processing techniques (NLP) to identify if there are any differences between their speeches.</p>\n",
    "<p>Your editor is intrigued, and accepts your proposal. In this project series, you will work towards analyzing their speeches using Python.</p>\n",
    "</div>"
   ]
  }
 ],
 "metadata": {
  "kernelspec": {
   "display_name": "Python 3 (ipykernel)",
   "language": "python",
   "name": "python3"
  },
  "language_info": {
   "codemirror_mode": {
    "name": "ipython",
    "version": 3
   },
   "file_extension": ".py",
   "mimetype": "text/x-python",
   "name": "python",
   "nbconvert_exporter": "python",
   "pygments_lexer": "ipython3",
   "version": "3.8.10"
  }
 },
 "nbformat": 4,
 "nbformat_minor": 5
}
